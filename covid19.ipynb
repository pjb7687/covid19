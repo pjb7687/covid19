{
 "cells": [
  {
   "cell_type": "code",
   "execution_count": 1,
   "metadata": {},
   "outputs": [
    {
     "name": "stderr",
     "output_type": "stream",
     "text": [
      "/home/pjb7687/.local/lib/python3.7/site-packages/skbio/util/_testing.py:15: FutureWarning: pandas.util.testing is deprecated. Use the functions in the public API at pandas.testing instead.\n",
      "  import pandas.util.testing as pdt\n"
     ]
    }
   ],
   "source": [
    "import numpy as np\n",
    "import networkx as nx\n",
    "import matplotlib.pyplot as plt\n",
    "\n",
    "# Cassiopeia, install this version: https://github.com/pjb7687/Cassiopeia\n",
    "# The orignal version is available at https://cassiopeia-lineage.readthedocs.io/en/latest/\n",
    "from cassiopeia.TreeSolver.Node import Node\n",
    "from cassiopeia.TreeSolver.lineage_solver import lineage_solver as ls\n",
    "\n",
    "# ForceAtlas2, available at https://pypi.org/project/ForceAtlas2\n",
    "from fa2 import ForceAtlas2"
   ]
  },
  {
   "cell_type": "code",
   "execution_count": null,
   "metadata": {},
   "outputs": [
    {
     "name": "stdout",
     "output_type": "stream",
     "text": [
      "FAMSA (Fast and Accurate Multiple Sequence Alignment) ver. 1.3.2 CPU and GPU\r\n",
      "  by S. Deorowicz, A. Debudaj-Grabysz, A. Gudys (2020-02-21)\r\n",
      "\r\n"
     ]
    }
   ],
   "source": [
    "# Assuming that the \"gisaid_cov2020_sequences.fasta\" file exists at the working directory.\n",
    "# According to the EULA, this file should be downloaded directly from GISAID website.\n",
    "\n",
    "# FAMSA, available at https://github.com/refresh-bio/FAMSA\n",
    "# GPU acceleration doesn't seem to work, but it is still quite fast\n",
    "!famsa-gpu-1.3.2-linux gisaid_cov2020_sequences.fasta aligned.fasta"
   ]
  },
  {
   "cell_type": "code",
   "execution_count": null,
   "metadata": {},
   "outputs": [],
   "source": [
    "with open(\"aligned.fasta\") as f, open(\"aligned_nospaces.fasta\", \"w\") as fo:\n",
    "    for line in f:\n",
    "        if line[0] == '>':\n",
    "            line = line.replace(\" \", \"_\")\n",
    "        fo.write(line)"
   ]
  },
  {
   "cell_type": "code",
   "execution_count": null,
   "metadata": {},
   "outputs": [],
   "source": [
    "# SNP-sites, available at https://github.com/sanger-pathogens/snp-sites\n",
    "!snp-sites -v -c -o variants.vcf aligned_nospaces.fasta"
   ]
  },
  {
   "cell_type": "code",
   "execution_count": null,
   "metadata": {},
   "outputs": [],
   "source": [
    "var_vecs = []\n",
    "var_ids = []\n",
    "with open(\"variants.vcf\") as f:\n",
    "    for line in f:\n",
    "        if line[0] == \"#\":\n",
    "            if line[1] != \"#\":\n",
    "                headers = np.array(line.strip().replace(\"|\", \"@\").split('\\t')[9:]) # bar sign can confuse Cassiopeia\n",
    "            continue\n",
    "        entries = line.strip().split('\\t')\n",
    "        if \",\" in entries[4]:\n",
    "            print(\"Found multiple SNVs at the same site!\")\n",
    "            continue # ignore multiple SNVs (so far this has never happened yet)\n",
    "        var_ids.append(\"_\".join([entries[1], entries[3], entries[4]]))\n",
    "        var_vecs.append([int(i) for i in entries[9:]])\n",
    "var_mat = np.array(var_vecs).T"
   ]
  },
  {
   "cell_type": "code",
   "execution_count": null,
   "metadata": {},
   "outputs": [],
   "source": [
    "# Dedupicate the same strains\n",
    "vecs_stringified = np.array(['|'.join(map(str, v)) for v in var_mat])\n",
    "uniq_vecs, uniq_indices = np.unique(vecs_stringified, return_index = True)\n",
    "uniq_headers = ['\\n'.join(headers[vs == vecs_stringified]) for vs in np.unique(vecs_stringified)]\n",
    "\n",
    "var_mat_uniq = var_mat[uniq_indices, :]"
   ]
  },
  {
   "cell_type": "code",
   "execution_count": null,
   "metadata": {},
   "outputs": [],
   "source": [
    "nodes = [Node(str(node_id), node_vec) for node_id, node_vec in enumerate(var_mat_uniq)]\n",
    "tree = ls.solve_lineage_instance(nodes, method=\"ilp\")[0]\n",
    "net = tree.get_network().to_undirected()"
   ]
  },
  {
   "cell_type": "code",
   "execution_count": null,
   "metadata": {},
   "outputs": [],
   "source": [
    "unknown_idx = 1\n",
    "for n in net:\n",
    "    try:\n",
    "        n.name = \"Node_\" + str(list(vecs_stringified[uniq_indices]).index(n.name.split('_')[0]))\n",
    "    except:\n",
    "        n.name = \"Unknown_\" + str(unknown_idx)\n",
    "        unknown_idx += 1"
   ]
  },
  {
   "cell_type": "code",
   "execution_count": null,
   "metadata": {},
   "outputs": [],
   "source": [
    "plt.figure(figsize=[20, 20])\n",
    "nx.draw(net, with_labels=True)\n",
    "pass"
   ]
  },
  {
   "cell_type": "code",
   "execution_count": null,
   "metadata": {},
   "outputs": [],
   "source": [
    "forceatlas2 = ForceAtlas2(\n",
    "                        # Behavior alternatives\n",
    "                        outboundAttractionDistribution=True,  # Dissuade hubs\n",
    "                        linLogMode=False,  # NOT IMPLEMENTED\n",
    "                        adjustSizes=False,  # Prevent overlap (NOT IMPLEMENTED)\n",
    "                        edgeWeightInfluence=1.0,\n",
    "\n",
    "                        # Performance\n",
    "                        jitterTolerance=1.0,  # Tolerance\n",
    "                        barnesHutOptimize=True,\n",
    "                        barnesHutTheta=1.2,\n",
    "                        multiThreaded=False,  # NOT IMPLEMENTED\n",
    "\n",
    "                        # Tuning\n",
    "                        scalingRatio=0.5,\n",
    "                        strongGravityMode=False,\n",
    "                        gravity=2,\n",
    "\n",
    "                        # Log\n",
    "                        verbose=True)"
   ]
  },
  {
   "cell_type": "code",
   "execution_count": null,
   "metadata": {},
   "outputs": [],
   "source": [
    "pos_fa2 = forceatlas2.forceatlas2_networkx_layout(net, pos=nx.spring_layout(net), iterations=10000)"
   ]
  },
  {
   "cell_type": "code",
   "execution_count": null,
   "metadata": {},
   "outputs": [],
   "source": [
    "plt.figure(figsize=[20, 20])\n",
    "nx.draw(net, pos=pos_fa2, with_labels=True)\n",
    "pass"
   ]
  },
  {
   "cell_type": "code",
   "execution_count": null,
   "metadata": {},
   "outputs": [],
   "source": [
    "#!wget https://datahub.io/core/world-cities/r/world-cities.csv\n",
    "import pandas as pd\n",
    "class div_to_country:\n",
    "    def __init__(self):\n",
    "        self.df = pd.read_csv(\"world-cities.csv\").dropna()\n",
    "        self.countries = np.unique(self.df['country'])\n",
    "        self.remaining_dict = {\n",
    "            \"NetherlandsL\": \"Netherlands\",\n",
    "            \"United States\": \"USA\",\n",
    "            \"Korea\": \"South Korea\",\n",
    "            \"Tianmen\": \"China\",\n",
    "            \"Wuhan-Hu-1\": \"China\",\n",
    "            \"England\": \"United Kingdom\",\n",
    "            \"Wales\": \"United Kingdom\",\n",
    "        }\n",
    "    def __getitem__(self, div):\n",
    "        if div in self.countries:\n",
    "            return div\n",
    "        \n",
    "        if div in self.remaining_dict:\n",
    "            return self.remaining_dict[div]\n",
    "        \n",
    "        for i, city in enumerate(self.df['name']):\n",
    "            if div == city:\n",
    "                return self.df['country'][i]\n",
    "            \n",
    "        for i, subcountry in enumerate(self.df['subcountry']):\n",
    "            if div == subcountry or div + ' Sheng' == subcountry:\n",
    "                return self.df['country'][i]\n",
    "\n",
    "        return div"
   ]
  },
  {
   "cell_type": "code",
   "execution_count": null,
   "metadata": {},
   "outputs": [],
   "source": [
    "# Export to Json for visualization with vis.js\n",
    "import json\n",
    "from datetime import datetime\n",
    "\n",
    "dtc = div_to_country()\n",
    "# print(list(np.unique([h.split('/')[1].replace('_' , ' ') + \"/\" + dtc[h.split('/')[1].replace('_' , ' ')] for h in headers])))\n",
    "nodes = []\n",
    "unique_countries = list(np.unique([dtc[h.split('/')[1].replace('_' , ' ')] for h in headers]))\n",
    "node_details = {}\n",
    "node_countries = {}\n",
    "for k in net.nodes:\n",
    "    if not \"Unknown\" in k.name:\n",
    "        node_details[k.name] = []\n",
    "        node_countries[k.name] = []\n",
    "        for strain in uniq_headers[int(k.name.split(\"_\")[-1])].split(\"\\n\"):\n",
    "            entries = strain.split(\"@\")\n",
    "            node_details[k.name].append(entries)\n",
    "            node_countries[k.name].append(dtc[entries[0].split('/')[1].replace('_' , ' ')])\n",
    "    nodes.append({\"id\": k.name})\n",
    "for k in node_details:\n",
    "    node_details[k] = sorted(node_details[k], key=lambda e: (e[0], e[2]))\n",
    "for k in node_countries:\n",
    "    node_countries[k] = list(np.unique(node_countries[k]))\n",
    "edges = [{\"from\": i.name, \"to\": j.name} for i, j in net.edges]\n",
    "\n",
    "current_datetime = datetime.now().strftime(\"%d %b %Y, %H:%M (CET)\")\n",
    "s = \"\"\"\n",
    "var updated_datetime = \"%s\";\n",
    "\n",
    "var unique_countries = %s;\n",
    "\n",
    "var node_countries = %s;\n",
    "\n",
    "var nodes = new vis.DataSet(%s);\n",
    "\n",
    "var edges = new vis.DataSet(%s);\n",
    "\n",
    "var node_details = %s;\n",
    "\"\"\"%(current_datetime, json.dumps(unique_countries), json.dumps(node_countries), json.dumps(nodes), json.dumps(edges), json.dumps(node_details))\n",
    "with open(\"network_data.js\", \"w\") as f:\n",
    "    f.write(s)"
   ]
  },
  {
   "cell_type": "code",
   "execution_count": null,
   "metadata": {},
   "outputs": [],
   "source": [
    "!git pull\n",
    "!git add covid19.ipynb network-visjs.html network_data.js\n",
    "!git commit -m \"update data\"\n",
    "!git push"
   ]
  }
 ],
 "metadata": {
  "kernelspec": {
   "display_name": "Python 3",
   "language": "python",
   "name": "python3"
  },
  "language_info": {
   "codemirror_mode": {
    "name": "ipython",
    "version": 3
   },
   "file_extension": ".py",
   "mimetype": "text/x-python",
   "name": "python",
   "nbconvert_exporter": "python",
   "pygments_lexer": "ipython3",
   "version": "3.7.5"
  }
 },
 "nbformat": 4,
 "nbformat_minor": 4
}
